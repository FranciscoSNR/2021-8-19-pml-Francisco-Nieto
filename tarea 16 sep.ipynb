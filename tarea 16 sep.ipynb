{
 "cells": [
  {
   "cell_type": "code",
   "execution_count": 1,
   "id": "c0dd07e4-368d-40e4-9b34-737b4c45f5c3",
   "metadata": {},
   "outputs": [],
   "source": [
    "import matplotlib.pyplot as plt\n",
    "import numpy as np\n",
    "import mglearn\n",
    "from sklearn.model_selection import train_test_split"
   ]
  },
  {
   "cell_type": "code",
   "execution_count": 2,
   "id": "64c66a8f-a41b-48bc-8b8c-a0769dd47100",
   "metadata": {},
   "outputs": [
    {
     "data": {
      "text/plain": [
       "dict_keys(['data', 'target', 'feature_names', 'DESCR', 'filename'])"
      ]
     },
     "execution_count": 2,
     "metadata": {},
     "output_type": "execute_result"
    }
   ],
   "source": [
    "#Se carga el dataset de viviendas en Boston\n",
    "boston = mglearn.datasets.load_boston()\n",
    "#Se piden los nombres de los arrays de los que consiste boston\n",
    "boston.keys()"
   ]
  },
  {
   "cell_type": "code",
   "execution_count": 3,
   "id": "a8d1ecf8-58ee-4c51-b578-46cbd5c4155e",
   "metadata": {},
   "outputs": [
    {
     "data": {
      "text/plain": [
       "KNeighborsRegressor()"
      ]
     },
     "execution_count": 3,
     "metadata": {},
     "output_type": "execute_result"
    }
   ],
   "source": [
    "from sklearn.neighbors import KNeighborsRegressor\n",
    "\n",
    "#Wave es un dataset sintético, útil para resaltar características de los algortimos, en este caso KNeighborsRegressor\n",
    "X, y = boston['data'], boston['target']\n",
    "# split the wave dataset into a training and a test set\n",
    "X_train, X_test, y_train, y_test = train_test_split(X, y, random_state=2)\n",
    "# instantiate the model and set the number of neighbors to consider to 3\n",
    "reg = KNeighborsRegressor(n_neighbors=5)\n",
    "# fit the model using the training data and training targets\n",
    "reg.fit(X_train, y_train)"
   ]
  },
  {
   "cell_type": "code",
   "execution_count": 4,
   "id": "6aef3e9e-e568-46ae-b1b8-32b804bff73b",
   "metadata": {},
   "outputs": [
    {
     "name": "stdout",
     "output_type": "stream",
     "text": [
      "(379, 13)\n",
      "(506, 13)\n",
      "(379,)\n",
      "(506,)\n"
     ]
    }
   ],
   "source": [
    "print(X_train.shape)\n",
    "print(X.shape)\n",
    "print(y_train.shape)\n",
    "print(y.shape)\n",
    "#print(y)"
   ]
  },
  {
   "cell_type": "code",
   "execution_count": 5,
   "id": "c1af81ce-2098-43b0-b736-1d2683ed6b26",
   "metadata": {},
   "outputs": [
    {
     "name": "stdout",
     "output_type": "stream",
     "text": [
      "Test set score: 0.59\n",
      "[19.14 19.88 33.76 31.02 14.96 15.88 21.84 26.58 11.08 37.78 24.38 22.2\n",
      " 27.02 26.92 12.28 21.06 17.3  12.9  10.96 13.84 23.28 19.86 41.34 19.64\n",
      " 16.24 21.88 42.92 24.44 37.44 22.   16.06 20.22 33.26 27.56 11.2  18.26\n",
      " 11.58 17.5  23.36 21.84 26.24 15.86 23.62 10.96 22.74 15.32 30.6  12.66\n",
      " 41.34 10.96 23.5  41.34 10.96 27.04 24.02 20.38 24.5  20.5  18.5  23.5\n",
      " 23.24 27.56 20.08 30.46 27.64 20.42 37.6  29.66 12.14 21.56 19.3  10.86\n",
      " 24.74 22.1  30.74 22.22 24.78 32.78 28.2  22.36 32.34 19.86 22.32 23.9\n",
      " 34.64 41.34 17.76 23.18 27.12 25.42 21.96 27.36 10.62 37.6  30.36 12.62\n",
      " 24.78 27.84 22.54 17.44 33.5  23.82 23.82 27.28 37.44 21.88 16.62 13.22\n",
      " 25.6  16.5   9.54 20.22 22.78  9.64 31.7  30.16 25.5  22.5  26.42 20.\n",
      " 24.06 18.04 19.72 12.12 31.82 24.66 16.5 ]\n",
      "[20.2 15.3 37.3 32.5  8.8 14.4 22.  26.6 15.  21.5 29.4 24.8 22.  16.1\n",
      " 13.9 21.6 21.7 12.8  7.2 12.6 20.7 19.3 36.5 17.7 16.7 20.2 50.  34.6\n",
      " 35.4 19.4 20.8 21.1 31.1 23.5  8.3 15.6 11.3 21.7 23.2 20.8 22.  13.6\n",
      " 28.7 10.5 23.  13.8 36.4 18.4 30.1 17.9 29.9 30.7  5.  35.4 27.9 18.4\n",
      " 18.5 17.5 15.6 22.4 20.3 20.6 19.8 28.2 35.1 27.5 48.5 27.5 11.5 22.\n",
      " 13.2  7.4 20.6 20.1 25.1 22.  19.1 24.3 19.4 23.9 34.9 19.4 21.4 26.6\n",
      " 37.6 36.  21.4 23.6 24.8 19.9 20.9 18.2 10.9 44.  43.5  8.3 46.7 32.9\n",
      " 21.7 14.3 29.1 23.8 23.1 21.  20.1 34.7 13.9 13.5 22.  15.2 10.9 22.7\n",
      " 13.8  5.6 29.8 50.  34.9 20.6 23.4 19.2 32.7 19.6 27.   8.4 46.  21.7\n",
      " 27.1]\n"
     ]
    }
   ],
   "source": [
    "y_pred= reg.predict(X_test)\n",
    "print(\"Test set score: {:.2f}\".format(reg.score(X_test, y_test)))\n",
    "print(y_pred)\n",
    "print(y_test)"
   ]
  },
  {
   "cell_type": "code",
   "execution_count": 6,
   "id": "dbc7eab7-4ec6-4c0f-b74e-a9ace1539a55",
   "metadata": {},
   "outputs": [
    {
     "name": "stdout",
     "output_type": "stream",
     "text": [
      "Test set score: 0.75\n"
     ]
    }
   ],
   "source": [
    "from sklearn.linear_model import LinearRegression\n",
    "X, y = boston['data'], boston['target']\n",
    "X_train, X_test, y_train, y_test = train_test_split(X, y, random_state=2)\n",
    "LR = LinearRegression().fit(X_train, y_train)\n",
    "y_pred= LR.predict(X_test)\n",
    "print(\"Test set score: {:.2f}\".format(LR.score(X_test, y_test)))"
   ]
  },
  {
   "cell_type": "code",
   "execution_count": 7,
   "id": "399e7d86-df2e-4dd3-89bf-e6c4aedc838c",
   "metadata": {},
   "outputs": [
    {
     "data": {
      "text/plain": [
       "LinearRegression()"
      ]
     },
     "execution_count": 7,
     "metadata": {},
     "output_type": "execute_result"
    }
   ],
   "source": [
    "LR.set_params()"
   ]
  },
  {
   "cell_type": "code",
   "execution_count": 8,
   "id": "a46fa5ea-0571-466e-9cef-032e937417e9",
   "metadata": {},
   "outputs": [
    {
     "name": "stdout",
     "output_type": "stream",
     "text": [
      "['CRIM' 'ZN' 'INDUS' 'CHAS' 'NOX' 'RM' 'AGE' 'DIS' 'RAD' 'TAX' 'PTRATIO'\n",
      " 'B' 'LSTAT'] \n",
      "\n",
      "[-9.81915048e-02  3.48400626e-02 -1.65945367e-02  3.36283135e+00\n",
      " -1.61477570e+01  3.57041012e+00  4.56458846e-03 -1.39585375e+00\n",
      "  3.15975518e-01 -1.20505823e-02 -1.04852815e+00  1.14536184e-02\n",
      " -5.52653040e-01]\n"
     ]
    }
   ],
   "source": [
    "print(boston['feature_names'], '\\n')\n",
    "print(LR.coef_)"
   ]
  },
  {
   "cell_type": "code",
   "execution_count": 9,
   "id": "427bd073-c6c4-40e9-9c4e-a1fd00f9afce",
   "metadata": {},
   "outputs": [
    {
     "name": "stdout",
     "output_type": "stream",
     "text": [
      "Test set predictions:\n",
      " [0 0 2 0 0 2 0 2 2 0 0 0 0 0 1 1 0 1 2 1 1 1 2 1 1 0 0 2 0 2]\n",
      "Test set score: 1.00\n"
     ]
    }
   ],
   "source": [
    "import numpy as np\n",
    "from sklearn.datasets import load_iris\n",
    "iris_dataset = load_iris()\n",
    "from sklearn.neighbors import KNeighborsClassifier\n",
    "knn = KNeighborsClassifier(n_neighbors=5)\n",
    "from sklearn.model_selection import train_test_split\n",
    "X_train, X_test, y_train, y_test = train_test_split(\n",
    "iris_dataset['data'], iris_dataset['target'],test_size=0.20, random_state=2)\n",
    "knn.fit(X_train, y_train)\n",
    "y_pred = knn.predict(X_test)\n",
    "print(\"Test set predictions:\\n {}\".format(y_pred))\n",
    "print(\"Test set score: {:.2f}\".format(np.mean(y_pred == y_test)))"
   ]
  },
  {
   "cell_type": "code",
   "execution_count": null,
   "id": "c4beae59-3658-47cb-b349-932da0f32bda",
   "metadata": {},
   "outputs": [],
   "source": []
  }
 ],
 "metadata": {
  "kernelspec": {
   "display_name": "Python 3",
   "language": "python",
   "name": "python3"
  },
  "language_info": {
   "codemirror_mode": {
    "name": "ipython",
    "version": 3
   },
   "file_extension": ".py",
   "mimetype": "text/x-python",
   "name": "python",
   "nbconvert_exporter": "python",
   "pygments_lexer": "ipython3",
   "version": "3.8.8"
  }
 },
 "nbformat": 4,
 "nbformat_minor": 5
}
