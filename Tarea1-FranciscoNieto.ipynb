{
 "cells": [
  {
   "cell_type": "markdown",
   "id": "5e279d58-a972-47b7-89a5-96478c0408a3",
   "metadata": {},
   "source": [
    "## 1 runing and quitting\n",
    "### Creating Lists in Markdown"
   ]
  },
  {
   "cell_type": "markdown",
   "id": "e6a47dbb-5db2-4178-96d5-72a0d32cbdcf",
   "metadata": {},
   "source": [
    "1.  Get funding.\n",
    "2.  Do work.\n",
    "    *   Design experiment.\n",
    "    *   Collect data.\n",
    "    *   Analyze.\n",
    "3.  Write up.\n",
    "4.  Publish."
   ]
  },
  {
   "cell_type": "markdown",
   "id": "ec6b665e-bd9c-4b05-91b1-a95304488050",
   "metadata": {},
   "source": [
    "## 2 Variables and Assignment\n",
    "### Slicing practice:\n",
    "### What does the following program print?\n",
    "atom_name = 'carbon'   \n",
    "print('atom_name[1:3] is:', atom_name[1:3])\n",
    "\n",
    "imprime la frase \"atom_name[1:3] is:\", deja un espacio y concatena \"ar\""
   ]
  },
  {
   "cell_type": "markdown",
   "id": "bc9e1dff-2612-4636-8e31-eb86cf1813d4",
   "metadata": {},
   "source": [
    "## 3 Data Types and Type Conversion\n",
    "Arithmetic with Different Types  \n",
    "first = 1.0  \n",
    "second = \"1\"  \n",
    "third = \"1.1\"  \n",
    "\n",
    "1. first + float(second)\n",
    "1. float(second) + float(third)\n",
    "1. first + int(third)\n",
    "1. first + int(float(third))\n",
    "1. int(first) + int(float(third))\n",
    "1. 2.0 * second\n"
   ]
  },
  {
   "cell_type": "markdown",
   "id": "3d1e0593-958c-4a18-9eb4-441122332a00",
   "metadata": {},
   "source": [
    "respuesta:  \n",
    "1. regresa 2.0 (float)\n",
    "1. regresa 2.1\n",
    "1. regresa error (pues 1.1 no se puede pasar a entero)\n",
    "1. regresa 2.0\n",
    "1. regresa 2 (entero)\n",
    "1. regresa 2"
   ]
  },
  {
   "cell_type": "markdown",
   "id": "fd7ea7b6-0594-4558-a127-2e58f55e5bd3",
   "metadata": {},
   "source": [
    "## 4 Built-in Functions and Help\n",
    "### Predict what each of the print statements in the program below will print.\n",
    "\n",
    "easy_string = \"abc\"  \n",
    "print(max(easy_string))  \n",
    "rich = \"gold\"  \n",
    "poor = \"tin\"  \n",
    "print(max(rich, poor))  \n",
    "print(max(len(rich), len(poor)))  \n",
    "\n",
    "el primero regresa \"c\", el segundo \"tin\" pues g<t y por tanto gold<tin, el tercero regresa 4 pues es el maximo entre 3 y 4"
   ]
  },
  {
   "cell_type": "markdown",
   "id": "df804d52-a576-46ff-8b7e-09e3ed74c9f5",
   "metadata": {},
   "source": [
    "## 6 Libraries\n",
    "\n",
    "### Rearrange the following statements so that a random DNA base is printed and its index in the string. Not all statements may be needed. Feel free to use/add intermediate variables.\n",
    "bases=\"ACTTGCTTGAC\"  \n",
    "import math  \n",
    "import random  \n",
    "___ = random.randrange(n_bases)  \n",
    "___ = len(bases)  \n",
    "print(\"random base \", bases[___], \"base index\", ___)  "
   ]
  },
  {
   "cell_type": "code",
   "execution_count": 8,
   "id": "58643de3-d6cb-482b-868d-cf75a74bf2fa",
   "metadata": {},
   "outputs": [
    {
     "name": "stdout",
     "output_type": "stream",
     "text": [
      "random base  A base index 1\n"
     ]
    }
   ],
   "source": [
    "# El codigo utilizado fue\n",
    "import math\n",
    "import random\n",
    "bases=\"ACTTGCTTGAC\" \n",
    "proteina = random.randrange(len(bases))\n",
    "print(\"random base \", bases[proteina], \"base index\", proteina+1)"
   ]
  },
  {
   "cell_type": "markdown",
   "id": "288bfcc0-ec34-45c4-aa48-8147b5faca4a",
   "metadata": {},
   "source": [
    "## 7 Reading Tabular Data into DataFrames\n",
    "### The data for your current project is stored in a file called microbes.csv, which is located in a folder called field_data. You are doing analysis in a notebook called analysis.ipynb in a sibling folder called thesis:\n",
    "\n"
   ]
  },
  {
   "cell_type": "markdown",
   "id": "17eddee8-b943-4775-bcbe-2a0f2d07e689",
   "metadata": {},
   "source": [
    "import pandas as pd  \n",
    "data=pd.read_cvs('../file_data/microbes.cvs')"
   ]
  },
  {
   "cell_type": "markdown",
   "id": "275378b3-2553-4f70-9a15-b7bb93161961",
   "metadata": {},
   "source": [
    " ## 8 Pandas DataFrames\n",
    "### There are at least two ways of accessing a value or slice of a DataFrame: by name or index. However, there are many others. For example, a single column or row can be accessed either as a DataFrame or a Series object.\n",
    "\n",
    "Suggest different ways of doing the following operations on a DataFrame:\n",
    "\n",
    "1. Access a single column\n",
    "1. Access a single row\n",
    "1. Access an individual DataFrame element\n",
    "1. Access several columns\n",
    "1. Access several rows\n",
    "1. Access a subset of specific rows and columns\n",
    "1. Access a subset of row and column ranges"
   ]
  },
  {
   "cell_type": "code",
   "execution_count": 57,
   "id": "03470326-f625-4474-8fee-073967ed7c6f",
   "metadata": {},
   "outputs": [
    {
     "name": "stdout",
     "output_type": "stream",
     "text": [
      "gdpPercap_1952     3119.236520\n",
      "gdpPercap_1957     4338.231617\n",
      "gdpPercap_1962     5477.890018\n",
      "gdpPercap_1967     6960.297861\n",
      "gdpPercap_1972     9164.090127\n",
      "gdpPercap_1977    11305.385170\n",
      "gdpPercap_1982    13221.821840\n",
      "gdpPercap_1987    13822.583940\n",
      "gdpPercap_1992     8447.794873\n",
      "gdpPercap_1997     9875.604515\n",
      "gdpPercap_2002    11628.388950\n",
      "gdpPercap_2007    14619.222720\n",
      "Name: Croatia, dtype: float64 \n",
      "\n",
      "gdpPercap_1952     4931.404155\n",
      "gdpPercap_1957     6248.656232\n",
      "gdpPercap_1962     8243.582340\n",
      "gdpPercap_1967    10022.401310\n",
      "gdpPercap_1972    12269.273780\n",
      "gdpPercap_1977    14255.984750\n",
      "gdpPercap_1982    16537.483500\n",
      "gdpPercap_1987    19207.234820\n",
      "gdpPercap_1992    22013.644860\n",
      "gdpPercap_1997    24675.024460\n",
      "gdpPercap_2002    27968.098170\n",
      "gdpPercap_2007    28569.719700\n",
      "Name: Italy, dtype: float64\n"
     ]
    }
   ],
   "source": [
    "# para comprobar que compila usaré el dataset de Europa\n",
    "#1\n",
    "import pandas as pd\n",
    "data = pd.read_csv('data/gapminder_gdp_europe.csv', index_col='country')\n",
    "print(data.iloc[5], '\\n')\n",
    "\n",
    "print(data.loc[\"Italy\",:])"
   ]
  },
  {
   "cell_type": "code",
   "execution_count": 59,
   "id": "f810639c-2707-4179-99e8-ba32dab1de69",
   "metadata": {},
   "outputs": [
    {
     "name": "stdout",
     "output_type": "stream",
     "text": [
      "country\n",
      "Albania                    2497.437901\n",
      "Austria                   27042.018680\n",
      "Belgium                   25575.570690\n",
      "Bosnia and Herzegovina     2546.781445\n",
      "Bulgaria                   6302.623438\n",
      "Croatia                    8447.794873\n",
      "Czech Republic            14297.021220\n",
      "Denmark                   26406.739850\n",
      "Finland                   20647.164990\n",
      "France                    24703.796150\n",
      "Germany                   26505.303170\n",
      "Greece                    17541.496340\n",
      "Hungary                   10535.628550\n",
      "Iceland                   25144.392010\n",
      "Ireland                   17558.815550\n",
      "Italy                     22013.644860\n",
      "Montenegro                 7003.339037\n",
      "Netherlands               26790.949610\n",
      "Norway                    33965.661150\n",
      "Poland                     7738.881247\n",
      "Portugal                  16207.266630\n",
      "Romania                    6598.409903\n",
      "Serbia                     9325.068238\n",
      "Slovak Republic            9498.467723\n",
      "Slovenia                  14214.716810\n",
      "Spain                     18603.064520\n",
      "Sweden                    23880.016830\n",
      "Switzerland               31871.530300\n",
      "Turkey                     5678.348271\n",
      "United Kingdom            22705.092540\n",
      "Name: gdpPercap_1992, dtype: float64 \n",
      "\n",
      "country\n",
      "Albania                    3533.003910\n",
      "Austria                   19749.422300\n",
      "Belgium                   19117.974480\n",
      "Bosnia and Herzegovina     3528.481305\n",
      "Bulgaria                   7612.240438\n",
      "Croatia                   11305.385170\n",
      "Czech Republic            14800.160620\n",
      "Denmark                   20422.901500\n",
      "Finland                   15605.422830\n",
      "France                    18292.635140\n",
      "Germany                   20512.921230\n",
      "Greece                    14195.524280\n",
      "Hungary                   11674.837370\n",
      "Iceland                   19654.962470\n",
      "Ireland                   11150.981130\n",
      "Italy                     14255.984750\n",
      "Montenegro                 9595.929905\n",
      "Netherlands               21209.059200\n",
      "Norway                    23311.349390\n",
      "Poland                     9508.141454\n",
      "Portugal                  10172.485720\n",
      "Romania                    9356.397240\n",
      "Serbia                    12980.669560\n",
      "Slovak Republic           10922.664040\n",
      "Slovenia                  15277.030170\n",
      "Spain                     13236.921170\n",
      "Sweden                    18855.725210\n",
      "Switzerland               26982.290520\n",
      "Turkey                     4269.122326\n",
      "United Kingdom            17428.748460\n",
      "Name: gdpPercap_1977, dtype: float64\n"
     ]
    }
   ],
   "source": [
    "#2\n",
    "print(data.T.iloc[8], '\\n')\n",
    "print (data.loc[:, \"gdpPercap_1977\"])"
   ]
  },
  {
   "cell_type": "code",
   "execution_count": 73,
   "id": "4ae42f02-4ceb-4bd3-b2a9-0e5d2f856188",
   "metadata": {},
   "outputs": [
    {
     "name": "stdout",
     "output_type": "stream",
     "text": [
      "8224.191647 \n",
      "\n",
      "19207.23482\n"
     ]
    }
   ],
   "source": [
    " # 3\n",
    "print(data.iloc[4,6],'\\n')\n",
    "print(data.loc[\"Italy\",\"gdpPercap_1987\"])"
   ]
  },
  {
   "cell_type": "code",
   "execution_count": 67,
   "id": "7a06dc2e-37ce-462f-afd4-8d1f8bb4c0da",
   "metadata": {},
   "outputs": [
    {
     "name": "stdout",
     "output_type": "stream",
     "text": [
      "country             Albania      Austria      Belgium  Bosnia and Herzegovina  \\\n",
      "gdpPercap_1987  3738.932735  23687.82607  22525.56308             4314.114757   \n",
      "gdpPercap_1992  2497.437901  27042.01868  25575.57069             2546.781445   \n",
      "gdpPercap_1997  3193.054604  29095.92066  27561.19663             4766.355904   \n",
      "gdpPercap_2002  4604.211737  32417.60769  30485.88375             6018.975239   \n",
      "\n",
      "country            Bulgaria       Croatia  Czech Republic      Denmark  \\\n",
      "gdpPercap_1987  8239.854824  13822.583940     16310.44340  25116.17581   \n",
      "gdpPercap_1992  6302.623438   8447.794873     14297.02122  26406.73985   \n",
      "gdpPercap_1997  5970.388760   9875.604515     16048.51424  29804.34567   \n",
      "gdpPercap_2002  7696.777725  11628.388950     17596.21022  32166.50006   \n",
      "\n",
      "country             Finland       France  ...     Portugal      Romania  \\\n",
      "gdpPercap_1987  21141.01223  22066.44214  ...  13039.30876  9696.273295   \n",
      "gdpPercap_1992  20647.16499  24703.79615  ...  16207.26663  6598.409903   \n",
      "gdpPercap_1997  23723.95020  25889.78487  ...  17641.03156  7346.547557   \n",
      "gdpPercap_2002  28204.59057  28926.03234  ...  19970.90787  7885.360081   \n",
      "\n",
      "country               Serbia  Slovak Republic     Slovenia        Spain  \\\n",
      "gdpPercap_1987  15870.878510     12037.267580  18678.53492  15764.98313   \n",
      "gdpPercap_1992   9325.068238      9498.467723  14214.71681  18603.06452   \n",
      "gdpPercap_1997   7914.320304     12126.230650  17161.10735  20445.29896   \n",
      "gdpPercap_2002   7236.075251     13638.778370  20660.01936  24835.47166   \n",
      "\n",
      "country              Sweden  Switzerland       Turkey  United Kingdom  \n",
      "gdpPercap_1987  23586.92927  30281.70459  5089.043686     21664.78767  \n",
      "gdpPercap_1992  23880.01683  31871.53030  5678.348271     22705.09254  \n",
      "gdpPercap_1997  25266.59499  32135.32301  6601.429915     26074.53136  \n",
      "gdpPercap_2002  29341.63093  34480.95771  6508.085718     29478.99919  \n",
      "\n",
      "[4 rows x 30 columns] \n",
      "\n",
      "country             Albania      Austria      Belgium  Bosnia and Herzegovina  \\\n",
      "gdpPercap_1962  2312.888958  10750.72111  10991.20676             1709.683679   \n",
      "gdpPercap_1967  2760.196931  12834.60240  13149.04119             2172.352423   \n",
      "gdpPercap_1972  3313.422188  16661.62560  16672.14356             2860.169750   \n",
      "\n",
      "country            Bulgaria      Croatia  Czech Republic      Denmark  \\\n",
      "gdpPercap_1962  4254.337839  5477.890018     10136.86713  13583.31351   \n",
      "gdpPercap_1967  5577.002800  6960.297861     11399.44489  15937.21123   \n",
      "gdpPercap_1972  6597.494398  9164.090127     13108.45360  18866.20721   \n",
      "\n",
      "country              Finland       France  ...     Portugal      Romania  \\\n",
      "gdpPercap_1962   9371.842561  10560.48553  ...  4727.954889  4734.997586   \n",
      "gdpPercap_1967  10921.636260  12999.91766  ...  6361.517993  6470.866545   \n",
      "gdpPercap_1972  14358.875900  16107.19171  ...  9022.247417  8011.414402   \n",
      "\n",
      "country               Serbia  Slovak Republic      Slovenia         Spain  \\\n",
      "gdpPercap_1962   6289.629157      7481.107598   7402.303395   5693.843879   \n",
      "gdpPercap_1967   7991.707066      8412.902397   9405.489397   7993.512294   \n",
      "gdpPercap_1972  10522.067490      9674.167626  12383.486200  10638.751310   \n",
      "\n",
      "country              Sweden  Switzerland       Turkey  United Kingdom  \n",
      "gdpPercap_1962  12329.44192  20431.09270  2322.869908     12477.17707  \n",
      "gdpPercap_1967  15258.29697  22966.14432  2826.356387     14142.85089  \n",
      "gdpPercap_1972  17832.02464  27195.11304  3450.696380     15895.11641  \n",
      "\n",
      "[3 rows x 30 columns]\n"
     ]
    }
   ],
   "source": [
    "# 4\n",
    "print(data.T.loc[\"gdpPercap_1987\": \"gdpPercap_2002\"], '\\n')\n",
    "print(data.T.iloc[2:5])"
   ]
  },
  {
   "cell_type": "code",
   "execution_count": 69,
   "id": "28fbafc6-dd76-484f-8cd0-7f36abc3139f",
   "metadata": {},
   "outputs": [
    {
     "name": "stdout",
     "output_type": "stream",
     "text": [
      "                 gdpPercap_1952  gdpPercap_1957  gdpPercap_1962  \\\n",
      "country                                                           \n",
      "Poland              4029.329699     4734.253019     5338.752143   \n",
      "Portugal            3068.319867     3774.571743     4727.954889   \n",
      "Romania             3144.613186     3943.370225     4734.997586   \n",
      "Serbia              3581.459448     4981.090891     6289.629157   \n",
      "Slovak Republic     5074.659104     6093.262980     7481.107598   \n",
      "Slovenia            4215.041741     5862.276629     7402.303395   \n",
      "Spain               3834.034742     4564.802410     5693.843879   \n",
      "\n",
      "                 gdpPercap_1967  gdpPercap_1972  gdpPercap_1977  \\\n",
      "country                                                           \n",
      "Poland              6557.152776     8006.506993     9508.141454   \n",
      "Portugal            6361.517993     9022.247417    10172.485720   \n",
      "Romania             6470.866545     8011.414402     9356.397240   \n",
      "Serbia              7991.707066    10522.067490    12980.669560   \n",
      "Slovak Republic     8412.902397     9674.167626    10922.664040   \n",
      "Slovenia            9405.489397    12383.486200    15277.030170   \n",
      "Spain               7993.512294    10638.751310    13236.921170   \n",
      "\n",
      "                 gdpPercap_1982  gdpPercap_1987  gdpPercap_1992  \\\n",
      "country                                                           \n",
      "Poland              8451.531004     9082.351172     7738.881247   \n",
      "Portugal           11753.842910    13039.308760    16207.266630   \n",
      "Romania             9605.314053     9696.273295     6598.409903   \n",
      "Serbia             15181.092700    15870.878510     9325.068238   \n",
      "Slovak Republic    11348.545850    12037.267580     9498.467723   \n",
      "Slovenia           17866.721750    18678.534920    14214.716810   \n",
      "Spain              13926.169970    15764.983130    18603.064520   \n",
      "\n",
      "                 gdpPercap_1997  gdpPercap_2002  gdpPercap_2007  \n",
      "country                                                          \n",
      "Poland             10159.583680    12002.239080    15389.924680  \n",
      "Portugal           17641.031560    19970.907870    20509.647770  \n",
      "Romania             7346.547557     7885.360081    10808.475610  \n",
      "Serbia              7914.320304     7236.075251     9786.534714  \n",
      "Slovak Republic    12126.230650    13638.778370    18678.314350  \n",
      "Slovenia           17161.107350    20660.019360    25768.257590  \n",
      "Spain              20445.298960    24835.471660    28821.063700   \n",
      "\n",
      "                        gdpPercap_1952  gdpPercap_1957  gdpPercap_1962  \\\n",
      "country                                                                  \n",
      "Belgium                    8343.105127     9714.960623    10991.206760   \n",
      "Bosnia and Herzegovina      973.533195     1353.989176     1709.683679   \n",
      "Bulgaria                   2444.286648     3008.670727     4254.337839   \n",
      "\n",
      "                        gdpPercap_1967  gdpPercap_1972  gdpPercap_1977  \\\n",
      "country                                                                  \n",
      "Belgium                   13149.041190    16672.143560    19117.974480   \n",
      "Bosnia and Herzegovina     2172.352423     2860.169750     3528.481305   \n",
      "Bulgaria                   5577.002800     6597.494398     7612.240438   \n",
      "\n",
      "                        gdpPercap_1982  gdpPercap_1987  gdpPercap_1992  \\\n",
      "country                                                                  \n",
      "Belgium                   20979.845890    22525.563080    25575.570690   \n",
      "Bosnia and Herzegovina     4126.613157     4314.114757     2546.781445   \n",
      "Bulgaria                   8224.191647     8239.854824     6302.623438   \n",
      "\n",
      "                        gdpPercap_1997  gdpPercap_2002  gdpPercap_2007  \n",
      "country                                                                 \n",
      "Belgium                   27561.196630    30485.883750    33692.605080  \n",
      "Bosnia and Herzegovina     4766.355904     6018.975239     7446.298803  \n",
      "Bulgaria                   5970.388760     7696.777725    10680.792820  \n"
     ]
    }
   ],
   "source": [
    "# 5\n",
    "print(data.loc[\"Poland\": \"Spain\"], '\\n')\n",
    "print(data.iloc[2:5])\n"
   ]
  },
  {
   "cell_type": "code",
   "execution_count": 76,
   "id": "e4cae289-41de-46c8-b3e6-0324d82252c6",
   "metadata": {},
   "outputs": [
    {
     "name": "stdout",
     "output_type": "stream",
     "text": [
      "Subset of data:\n",
      "          gdpPercap_1962  gdpPercap_1972\n",
      "country                                \n",
      "Italy        8243.58234     12269.27378\n",
      "                gdpPercap_1967  gdpPercap_1977  gdpPercap_1987\n",
      "country                                                       \n",
      "Belgium            13149.04119    19117.974480    22525.563080\n",
      "Bulgaria            5577.00280     7612.240438     8239.854824\n",
      "Czech Republic     11399.44489    14800.160620    16310.443400\n"
     ]
    }
   ],
   "source": [
    "subset = data.loc[['Italy'], ['gdpPercap_1962','gdpPercap_1972']]\n",
    "print('Subset of data:\\n', subset)\n",
    "\n",
    "subset2 = data.iloc[[2,4,6], [3,5,7]]\n",
    "print(subset2)"
   ]
  },
  {
   "cell_type": "code",
   "execution_count": 79,
   "id": "34135eed-b486-433f-a3e5-866fb210d482",
   "metadata": {},
   "outputs": [
    {
     "name": "stdout",
     "output_type": "stream",
     "text": [
      "Subset of data:\n",
      "              gdpPercap_1962  gdpPercap_1967  gdpPercap_1972\n",
      "country                                                    \n",
      "Italy           8243.582340    10022.401310    12269.273780\n",
      "Montenegro      4649.593785     5907.850937     7778.414017\n",
      "Netherlands    12790.849560    15363.251360    18794.745670\n",
      "Norway         13450.401510    16361.876470    18965.055510\n",
      "Poland          5338.752143     6557.152776     8006.506993\n",
      "                        gdpPercap_1967  gdpPercap_1972  gdpPercap_1977  \\\n",
      "country                                                                  \n",
      "Belgium                   13149.041190    16672.143560    19117.974480   \n",
      "Bosnia and Herzegovina     2172.352423     2860.169750     3528.481305   \n",
      "Bulgaria                   5577.002800     6597.494398     7612.240438   \n",
      "Croatia                    6960.297861     9164.090127    11305.385170   \n",
      "\n",
      "                        gdpPercap_1982  \n",
      "country                                 \n",
      "Belgium                   20979.845890  \n",
      "Bosnia and Herzegovina     4126.613157  \n",
      "Bulgaria                   8224.191647  \n",
      "Croatia                   13221.821840  \n"
     ]
    }
   ],
   "source": [
    "subset = data.loc['Italy':'Poland', 'gdpPercap_1962':'gdpPercap_1972']\n",
    "print('Subset of data:\\n', subset)\n",
    "subset2 = data.iloc[2:6,3:7]\n",
    "print(subset2)"
   ]
  },
  {
   "cell_type": "markdown",
   "id": "9a91dca1-4c25-48c1-830f-f02e86ad49c0",
   "metadata": {},
   "source": [
    "## Ploting\n",
    "### Fill in the blanks below to plot the minimum GDP per capita over time for all the countries in Europe. Modify it again to plot the maximum GDP per capita over time for Europe\n",
    "data_europe = pd.read_csv('data/gapminder_gdp_europe.csv', index_col='country')  \n",
    "data_europe.__ __. plot(label='min')  \n",
    "data_europe. __ __  \n",
    "plt.legend(loc='best')  \n",
    "plt.xticks(rotation=90)"
   ]
  },
  {
   "cell_type": "code",
   "execution_count": 82,
   "id": "50100e59-c0cd-4dcc-9b98-6a749aae48b5",
   "metadata": {},
   "outputs": [
    {
     "data": {
      "text/plain": [
       "(array([-2.,  0.,  2.,  4.,  6.,  8., 10., 12.]),\n",
       " [Text(-2.0, 0, 'gdpPercap_2002'),\n",
       "  Text(0.0, 0, 'gdpPercap_1952'),\n",
       "  Text(2.0, 0, 'gdpPercap_1962'),\n",
       "  Text(4.0, 0, 'gdpPercap_1972'),\n",
       "  Text(6.0, 0, 'gdpPercap_1982'),\n",
       "  Text(8.0, 0, 'gdpPercap_1992'),\n",
       "  Text(10.0, 0, 'gdpPercap_2002'),\n",
       "  Text(12.0, 0, '')])"
      ]
     },
     "execution_count": 82,
     "metadata": {},
     "output_type": "execute_result"
    },
    {
     "data": {
      "image/png": "[encoded data removed]",
      "text/plain": [
       "<Figure size 432x288 with 1 Axes>"
      ]
     },
     "metadata": {
      "needs_background": "light"
     },
     "output_type": "display_data"
    }
   ],
   "source": [
    "import matplotlib.pyplot as plt\n",
    "data_europe = pd.read_csv('data/gapminder_gdp_europe.csv', index_col='country')\n",
    "data_europe.min().plot(label='min')\n",
    "data_europe.max().plot (label='max')\n",
    "plt.legend(loc='best')\n",
    "plt.xticks(rotation=90)"
   ]
  },
  {
   "cell_type": "markdown",
   "id": "01797a17-d5a6-4b62-9b92-0d2646a346e2",
   "metadata": {},
   "source": [
    "# 11 List\n",
    "###What do these two programs print? In simple terms, explain the difference between sorted(letters) and letters.sort().\n",
    "\n",
    "## Program A\n",
    "letters = list('gold')  \n",
    "result = sorted(letters)  \n",
    "print('letters is', letters, 'and result is', result)  \n",
    "\n",
    "## Program B\n",
    "letters = list('gold')  \n",
    "result = letters.sort()  \n",
    "print('letters is', letters, 'and result is', result)\n"
   ]
  },
  {
   "cell_type": "markdown",
   "id": "acef9a71-d02e-4d56-bcf7-952e25c7865f",
   "metadata": {},
   "source": [
    "## A\n",
    "crea una lista de con las letras de gold  \n",
    "ordena a la lista y lo pone en result  \n",
    "imprime\n",
    "\n",
    "## B\n",
    "crea una lista con las letras de gold  \n",
    "ordena la lista pero no lo guarda  \n",
    "imprime"
   ]
  },
  {
   "cell_type": "markdown",
   "id": "482027da-41ef-4e5c-b7e2-3a26a16d932b",
   "metadata": {},
   "source": [
    "## 12 For loops\n",
    "### eorder and properly indent the lines of code below so that they print a list with the cumulative sum of data. The result should be [1, 3, 5, 10].\n",
    "\n",
    "cumulative.append(total)  \n",
    "for number in data:  \n",
    "cumulative = []  \n",
    "total += number  \n",
    "total = 0  \n",
    "print(cumulative)  \n",
    "data = [1,2,2,5]  "
   ]
  },
  {
   "cell_type": "code",
   "execution_count": 85,
   "id": "fe5698fe-e364-49fa-8210-4a39ea429e3c",
   "metadata": {},
   "outputs": [
    {
     "name": "stdout",
     "output_type": "stream",
     "text": [
      "[1, 3, 5, 10]\n"
     ]
    }
   ],
   "source": [
    "data = [1,2,2,5]\n",
    "cumulative = []\n",
    "total = 0\n",
    "for number in data:\n",
    "    total += number\n",
    "    cumulative.append(total)\n",
    "print(cumulative)\n"
   ]
  },
  {
   "cell_type": "markdown",
   "id": "7ae13ba0-8049-4c71-a374-2cf2547b1953",
   "metadata": {},
   "source": [
    "## 13 Conditionals\n",
    "### Modify this program so that it finds the largest and smallest values in the list no matter what the range of values originally is.\n",
    "values = [...some test data...]  \n",
    "smallest, largest = None, None  \n",
    "for v in values:  \n",
    "    if _ _ _ _ :  \n",
    "        smallest, largest = v, v  \n",
    "    _ _ _ _ :  \n",
    "        smallest = min ( _ _ _, v)  \n",
    "        largest = max ( _ _ _ _, v)  \n",
    "print(smallest, largest)"
   ]
  },
  {
   "cell_type": "code",
   "execution_count": 87,
   "id": "3220b418-3911-48e7-b749-18b9760a458d",
   "metadata": {},
   "outputs": [
    {
     "name": "stdout",
     "output_type": "stream",
     "text": [
      "1 44\n"
     ]
    }
   ],
   "source": [
    "values = [6, 1 ,8.8, 44]\n",
    "smallest, largest = None, None\n",
    "for v in values:\n",
    "    if smallest ==None and largest==None:\n",
    "        smallest, largest = v, v\n",
    "    else:\n",
    "        smallest = min(smallest, v)\n",
    "        largest = max(largest, v)\n",
    "print(smallest, largest)"
   ]
  },
  {
   "cell_type": "markdown",
   "id": "1387a5e2-8de4-4f9b-a89c-76208e66e3ad",
   "metadata": {},
   "source": [
    "## 14 Looping Over Data Sets\n",
    "### Which of these files is not matched by the expression glob.glob('data/*as*.csv')?\n",
    "\n",
    "1. data/gapminder_gdp_africa.csv\n",
    "1. data/gapminder_gdp_americas.csv\n",
    "1. data/gapminder_gdp_asia.csv"
   ]
  },
  {
   "cell_type": "markdown",
   "id": "85437371-880a-42ed-8f67-6d7ab8086582",
   "metadata": {},
   "source": [
    "#solo el primero no coincide"
   ]
  },
  {
   "cell_type": "markdown",
   "id": "b67a4a41-947d-4588-bb81-90ef00e6e77d",
   "metadata": {},
   "source": [
    "## 16 Writing Functions\n"
   ]
  },
  {
   "cell_type": "code",
   "execution_count": 90,
   "id": "109ef11a-4de9-4f64-b1c5-78f22ddc53e3",
   "metadata": {},
   "outputs": [],
   "source": [
    "def print_date(year, month, day):\n",
    "    joined = str(year) + '/' + str(month) + '/' + str(day)\n",
    "    print(joined)\n",
    "    \n",
    "    # We saw that we can call the function using named arguments, like this:\n",
    "    \n",
    "    #print_date(day=1, month=2, year=2003)\n"
   ]
  },
  {
   "cell_type": "markdown",
   "id": "ce5f3c78-5e88-4ece-b410-ba0554e39c44",
   "metadata": {},
   "source": [
    "What does print_date(day=1, month=2, year=2003) print?  \n",
    "When have you seen a function call like this before?  \n",
    "When and why is it useful to call functions this way?  "
   ]
  },
  {
   "cell_type": "markdown",
   "id": "088a6389-e2cb-4842-9c5b-56c52eea104d",
   "metadata": {},
   "source": [
    "1. imprime 2003 2 1  \n",
    "1. para leer data sets usamos index_col como el nombre predefinido de la funcion read.cvs  \n",
    "1. cuando conocemos que variblaes usa la función y es mas facil recordar cuales son los parametros que el orden de los mismos."
   ]
  },
  {
   "cell_type": "code",
   "execution_count": null,
   "id": "bfe208b5-b07f-46fc-b6fa-0c6244f18baa",
   "metadata": {},
   "outputs": [],
   "source": []
  }
 ],
 "metadata": {
  "kernelspec": {
   "display_name": "Python 3",
   "language": "python",
   "name": "python3"
  },
  "language_info": {
   "codemirror_mode": {
    "name": "ipython",
    "version": 3
   },
   "file_extension": ".py",
   "mimetype": "text/x-python",
   "name": "python",
   "nbconvert_exporter": "python",
   "pygments_lexer": "ipython3",
   "version": "3.8.8"
  }
 },
 "nbformat": 4,
 "nbformat_minor": 5
}
