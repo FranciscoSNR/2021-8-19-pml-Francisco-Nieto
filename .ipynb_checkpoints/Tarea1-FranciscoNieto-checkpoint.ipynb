{
 "cells": [
  {
   "cell_type": "markdown",
   "id": "5e279d58-a972-47b7-89a5-96478c0408a3",
   "metadata": {},
   "source": [
    "## 1 runing and quitting\n",
    "### Creating Lists in Markdown"
   ]
  },
  {
   "cell_type": "markdown",
   "id": "e6a47dbb-5db2-4178-96d5-72a0d32cbdcf",
   "metadata": {},
   "source": [
    "1.  Get funding.\n",
    "2.  Do work.\n",
    "    *   Design experiment.\n",
    "    *   Collect data.\n",
    "    *   Analyze.\n",
    "3.  Write up.\n",
    "4.  Publish."
   ]
  },
  {
   "cell_type": "markdown",
   "id": "ec6b665e-bd9c-4b05-91b1-a95304488050",
   "metadata": {},
   "source": [
    "## 2 Variables and Assignment\n",
    "### Slicing practice:\n",
    "### What does the following program print?\n",
    "atom_name = 'carbon'   \n",
    "print('atom_name[1:3] is:', atom_name[1:3])\n",
    "\n",
    "imprime la frase \"atom_name[1:3] is:\", deja un espacio y concatena \"ar\""
   ]
  },
  {
   "cell_type": "markdown",
   "id": "bc9e1dff-2612-4636-8e31-eb86cf1813d4",
   "metadata": {},
   "source": [
    "## 3 Data Types and Type Conversion\n",
    "Arithmetic with Different Types  \n",
    "first = 1.0  \n",
    "second = \"1\"  \n",
    "third = \"1.1\"  \n",
    "\n",
    "1. first + float(second)\n",
    "1. float(second) + float(third)\n",
    "1. first + int(third)\n",
    "1. first + int(float(third))\n",
    "1. int(first) + int(float(third))\n",
    "1. 2.0 * second\n"
   ]
  },
  {
   "cell_type": "markdown",
   "id": "3d1e0593-958c-4a18-9eb4-441122332a00",
   "metadata": {},
   "source": [
    "respuesta:  \n",
    "1. regresa 2.0 (float)\n",
    "1. regresa 2.1\n",
    "1. regresa error (pues 1.1 no se puede pasar a entero)\n",
    "1. regresa 2.0\n",
    "1. regresa 2 (entero)\n",
    "1. regresa 2"
   ]
  },
  {
   "cell_type": "markdown",
   "id": "fd7ea7b6-0594-4558-a127-2e58f55e5bd3",
   "metadata": {},
   "source": [
    "## 4 Built-in Functions and Help\n",
    "### Predict what each of the print statements in the program below will print.\n",
    "\n",
    "easy_string = \"abc\"  \n",
    "print(max(easy_string))  \n",
    "rich = \"gold\"  \n",
    "poor = \"tin\"  \n",
    "print(max(rich, poor))  \n",
    "print(max(len(rich), len(poor)))  \n",
    "\n",
    "el primero regresa \"c\", el segundo \"tin\" pues g<t y por tanto gold<tin, el tercero regresa 4 pues es el maximo entre 3 y 4"
   ]
  },
  {
   "cell_type": "markdown",
   "id": "df804d52-a576-46ff-8b7e-09e3ed74c9f5",
   "metadata": {},
   "source": [
    "## 6 Libraries\n",
    "\n",
    "### Rearrange the following statements so that a random DNA base is printed and its index in the string. Not all statements may be needed. Feel free to use/add intermediate variables.\n",
    "bases=\"ACTTGCTTGAC\"  \n",
    "import math  \n",
    "import random  \n",
    "___ = random.randrange(n_bases)  \n",
    "___ = len(bases)  \n",
    "print(\"random base \", bases[___], \"base index\", ___)  "
   ]
  },
  {
   "cell_type": "code",
   "execution_count": 8,
   "id": "58643de3-d6cb-482b-868d-cf75a74bf2fa",
   "metadata": {},
   "outputs": [
    {
     "name": "stdout",
     "output_type": "stream",
     "text": [
      "random base  A base index 1\n"
     ]
    }
   ],
   "source": [
    "# El codigo utilizado fue\n",
    "import math\n",
    "import random\n",
    "bases=\"ACTTGCTTGAC\" \n",
    "proteina = random.randrange(len(bases))\n",
    "print(\"random base \", bases[proteina], \"base index\", proteina+1)"
   ]
  },
  {
   "cell_type": "markdown",
   "id": "288bfcc0-ec34-45c4-aa48-8147b5faca4a",
   "metadata": {},
   "source": [
    "## 7 Reading Tabular Data into DataFrames\n",
    "### The data for your current project is stored in a file called microbes.csv, which is located in a folder called field_data. You are doing analysis in a notebook called analysis.ipynb in a sibling folder called thesis:\n",
    "\n"
   ]
  },
  {
   "cell_type": "markdown",
   "id": "17eddee8-b943-4775-bcbe-2a0f2d07e689",
   "metadata": {},
   "source": [
    "import pandas as pd  \n",
    "data=pd.read_cvs('../file_data/microbes.cvs')"
   ]
  },
  {
   "cell_type": "markdown",
   "id": "88f0d856-ed8c-4183-aed1-5a4fa26ae160",
   "metadata": {},
   "source": [
    " ## 8 Pandas DataFrames\n",
    "### a"
   ]
  },
  {
   "cell_type": "code",
   "execution_count": 1,
   "id": "03470326-f625-4474-8fee-073967ed7c6f",
   "metadata": {},
   "outputs": [
    {
     "data": {
      "text/plain": [
       "-1"
      ]
     },
     "execution_count": 1,
     "metadata": {},
     "output_type": "execute_result"
    }
   ],
   "source": [
    "1-2"
   ]
  },
  {
   "cell_type": "code",
   "execution_count": null,
   "id": "9ff20bbd-3bbb-403c-ba55-0b3f184f114c",
   "metadata": {},
   "outputs": [],
   "source": []
  }
 ],
 "metadata": {
  "kernelspec": {
   "display_name": "Python 3",
   "language": "python",
   "name": "python3"
  },
  "language_info": {
   "codemirror_mode": {
    "name": "ipython",
    "version": 3
   },
   "file_extension": ".py",
   "mimetype": "text/x-python",
   "name": "python",
   "nbconvert_exporter": "python",
   "pygments_lexer": "ipython3",
   "version": "3.8.8"
  }
 },
 "nbformat": 4,
 "nbformat_minor": 5
}
