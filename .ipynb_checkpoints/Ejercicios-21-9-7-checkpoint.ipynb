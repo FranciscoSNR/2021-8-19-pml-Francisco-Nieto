{
 "cells": [
  {
   "cell_type": "code",
   "execution_count": 1,
   "id": "a0465418-e741-41e2-b8f3-1f257cf020b7",
   "metadata": {},
   "outputs": [
    {
     "name": "stdout",
     "output_type": "stream",
     "text": [
      "     sepal.length  sepal.width  petal.length  petal.width    variety\n",
      "0             5.1          3.5           1.4          0.2     Setosa\n",
      "1             4.9          3.0           1.4          0.2     Setosa\n",
      "2             4.7          3.2           1.3          0.2     Setosa\n",
      "3             4.6          3.1           1.5          0.2     Setosa\n",
      "4             5.0          3.6           1.4          0.2     Setosa\n",
      "..            ...          ...           ...          ...        ...\n",
      "145           6.7          3.0           5.2          2.3  Virginica\n",
      "146           6.3          2.5           5.0          1.9  Virginica\n",
      "147           6.5          3.0           5.2          2.0  Virginica\n",
      "148           6.2          3.4           5.4          2.3  Virginica\n",
      "149           5.9          3.0           5.1          1.8  Virginica\n",
      "\n",
      "[150 rows x 5 columns]\n"
     ]
    }
   ],
   "source": [
    "from sklearn.datasets import load_iris\n",
    "import numpy as np\n",
    "import pandas as pd\n",
    "iris_dataset = load_iris()\n",
    "data = pd.read_csv('iris.csv')\n",
    "print(data)\n",
    "#print(\"Shape of data: {}\".format(iris_dataset['data'][:3].shape))\n"
   ]
  },
  {
   "cell_type": "code",
   "execution_count": 2,
   "id": "5f578e3d-31be-4bc8-93e8-97ed676f246b",
   "metadata": {},
   "outputs": [
    {
     "name": "stdout",
     "output_type": "stream",
     "text": [
      "0    Setosa\n",
      "1    Setosa\n",
      "2    Setosa\n",
      "Name: variety, dtype: object\n"
     ]
    }
   ],
   "source": [
    "print(data.loc[0:2,'variety'])"
   ]
  },
  {
   "cell_type": "code",
   "execution_count": 3,
   "id": "ebe76b51-6b07-4754-a6e2-0f3a58e584cf",
   "metadata": {},
   "outputs": [
    {
     "name": "stdout",
     "output_type": "stream",
     "text": [
      "       sepal.length  sepal.width  petal.length  petal.width\n",
      "count    150.000000   150.000000    150.000000   150.000000\n",
      "mean       5.843333     3.057333      3.758000     1.199333\n",
      "std        0.828066     0.435866      1.765298     0.762238\n",
      "min        4.300000     2.000000      1.000000     0.100000\n",
      "25%        5.100000     2.800000      1.600000     0.300000\n",
      "50%        5.800000     3.000000      4.350000     1.300000\n",
      "75%        6.400000     3.300000      5.100000     1.800000\n",
      "max        7.900000     4.400000      6.900000     2.500000\n"
     ]
    }
   ],
   "source": [
    "print(data.describe())"
   ]
  },
  {
   "cell_type": "code",
   "execution_count": 4,
   "id": "f29d6d66-baa7-408f-bd51-d98049bf94a6",
   "metadata": {},
   "outputs": [],
   "source": [
    "#help(knn.predict)"
   ]
  },
  {
   "cell_type": "markdown",
   "id": "c0a01547-80d4-4db3-9ec3-086ccb4a08da",
   "metadata": {},
   "source": [
    "# 1"
   ]
  },
  {
   "cell_type": "code",
   "execution_count": 5,
   "id": "e4c107c2-0d85-4f9d-8610-6836ce54b7bf",
   "metadata": {},
   "outputs": [
    {
     "name": "stdout",
     "output_type": "stream",
     "text": [
      "0         Setosa\n",
      "1         Setosa\n",
      "2         Setosa\n",
      "3         Setosa\n",
      "4         Setosa\n",
      "         ...    \n",
      "145    Virginica\n",
      "146    Virginica\n",
      "147    Virginica\n",
      "148    Virginica\n",
      "149    Virginica\n",
      "Name: variety, Length: 150, dtype: object \n",
      "\n",
      "     sepal.length  sepal.width  petal.length  petal.width\n",
      "0             5.1          3.5           1.4          0.2\n",
      "1             4.9          3.0           1.4          0.2\n",
      "2             4.7          3.2           1.3          0.2\n",
      "3             4.6          3.1           1.5          0.2\n",
      "4             5.0          3.6           1.4          0.2\n",
      "..            ...          ...           ...          ...\n",
      "145           6.7          3.0           5.2          2.3\n",
      "146           6.3          2.5           5.0          1.9\n",
      "147           6.5          3.0           5.2          2.0\n",
      "148           6.2          3.4           5.4          2.3\n",
      "149           5.9          3.0           5.1          1.8\n",
      "\n",
      "[150 rows x 4 columns]\n"
     ]
    }
   ],
   "source": [
    "X= data.loc[:, 'sepal.length' : 'petal.width']\n",
    "y = data.loc[:,'variety']\n",
    "print(y, '\\n')\n",
    "print(X)"
   ]
  },
  {
   "cell_type": "markdown",
   "id": "5c678d1a-ee7c-4960-b5ee-992b0fc0d337",
   "metadata": {},
   "source": [
    "# 2"
   ]
  },
  {
   "cell_type": "code",
   "execution_count": 6,
   "id": "a871d518-19fc-4e34-99ac-afcff2c2f924",
   "metadata": {},
   "outputs": [],
   "source": [
    "from sklearn.neighbors import KNeighborsClassifier\n",
    "knn = KNeighborsClassifier(n_neighbors=5)"
   ]
  },
  {
   "cell_type": "code",
   "execution_count": 7,
   "id": "dae5cef5-94d3-4c66-89ff-e9824b12ea3d",
   "metadata": {},
   "outputs": [
    {
     "name": "stdout",
     "output_type": "stream",
     "text": [
      "105\n"
     ]
    }
   ],
   "source": [
    "from sklearn.model_selection import train_test_split\n",
    "X_train, X_test, y_train, y_test = train_test_split(\n",
    "iris_dataset['data'], iris_dataset['target'],test_size=0.30, random_state=2)\n",
    "#solo le puedes meter 4 variables\n",
    "print(len(X_train))"
   ]
  },
  {
   "cell_type": "markdown",
   "id": "11877b9c-4651-4516-851a-5dfc97b5245a",
   "metadata": {},
   "source": [
    "# 4"
   ]
  },
  {
   "cell_type": "code",
   "execution_count": 8,
   "id": "1a3fa214-cb9d-49ae-800a-c4c110d85692",
   "metadata": {
    "tags": []
   },
   "outputs": [
    {
     "data": {
      "text/plain": [
       "KNeighborsClassifier()"
      ]
     },
     "execution_count": 8,
     "metadata": {},
     "output_type": "execute_result"
    }
   ],
   "source": [
    " knn.fit(X_train, y_train)"
   ]
  },
  {
   "cell_type": "code",
   "execution_count": 9,
   "id": "b730ccb5-400b-4ba2-aa61-05328a68f67c",
   "metadata": {
    "tags": []
   },
   "outputs": [
    {
     "name": "stdout",
     "output_type": "stream",
     "text": [
      "Prediction: [0]\n",
      "Predicted target name: ['setosa']\n",
      "Prediction: [0]\n",
      "Predicted target name: ['setosa']\n",
      "Prediction: [2]\n",
      "Predicted target name: ['virginica']\n",
      "Prediction: [0]\n",
      "Predicted target name: ['setosa']\n",
      "Prediction: [0]\n",
      "Predicted target name: ['setosa']\n",
      "Prediction: [2]\n",
      "Predicted target name: ['virginica']\n",
      "Prediction: [0]\n",
      "Predicted target name: ['setosa']\n",
      "Prediction: [2]\n",
      "Predicted target name: ['virginica']\n",
      "Prediction: [2]\n",
      "Predicted target name: ['virginica']\n",
      "Prediction: [0]\n",
      "Predicted target name: ['setosa']\n",
      "Prediction: [0]\n",
      "Predicted target name: ['setosa']\n",
      "Prediction: [0]\n",
      "Predicted target name: ['setosa']\n",
      "Prediction: [0]\n",
      "Predicted target name: ['setosa']\n",
      "Prediction: [0]\n",
      "Predicted target name: ['setosa']\n",
      "Prediction: [1]\n",
      "Predicted target name: ['versicolor']\n",
      "Prediction: [1]\n",
      "Predicted target name: ['versicolor']\n",
      "Prediction: [0]\n",
      "Predicted target name: ['setosa']\n",
      "Prediction: [1]\n",
      "Predicted target name: ['versicolor']\n",
      "Prediction: [2]\n",
      "Predicted target name: ['virginica']\n",
      "Prediction: [1]\n",
      "Predicted target name: ['versicolor']\n",
      "Prediction: [1]\n",
      "Predicted target name: ['versicolor']\n",
      "Prediction: [1]\n",
      "Predicted target name: ['versicolor']\n",
      "Prediction: [2]\n",
      "Predicted target name: ['virginica']\n",
      "Prediction: [1]\n",
      "Predicted target name: ['versicolor']\n",
      "Prediction: [1]\n",
      "Predicted target name: ['versicolor']\n",
      "Prediction: [0]\n",
      "Predicted target name: ['setosa']\n",
      "Prediction: [0]\n",
      "Predicted target name: ['setosa']\n",
      "Prediction: [2]\n",
      "Predicted target name: ['virginica']\n",
      "Prediction: [0]\n",
      "Predicted target name: ['setosa']\n",
      "Prediction: [2]\n",
      "Predicted target name: ['virginica']\n",
      "Prediction: [2]\n",
      "Predicted target name: ['virginica']\n",
      "Prediction: [0]\n",
      "Predicted target name: ['setosa']\n",
      "Prediction: [1]\n",
      "Predicted target name: ['versicolor']\n",
      "Prediction: [2]\n",
      "Predicted target name: ['virginica']\n",
      "Prediction: [1]\n",
      "Predicted target name: ['versicolor']\n",
      "Prediction: [0]\n",
      "Predicted target name: ['setosa']\n",
      "Prediction: [2]\n",
      "Predicted target name: ['virginica']\n",
      "Prediction: [1]\n",
      "Predicted target name: ['versicolor']\n",
      "Prediction: [1]\n",
      "Predicted target name: ['versicolor']\n",
      "Prediction: [2]\n",
      "Predicted target name: ['virginica']\n",
      "Prediction: [1]\n",
      "Predicted target name: ['versicolor']\n",
      "Prediction: [1]\n",
      "Predicted target name: ['versicolor']\n",
      "Prediction: [2]\n",
      "Predicted target name: ['virginica']\n",
      "Prediction: [1]\n",
      "Predicted target name: ['versicolor']\n",
      "Prediction: [0]\n",
      "Predicted target name: ['setosa']\n"
     ]
    }
   ],
   "source": [
    "#y_KNN=iris_dataset['data'][]\n",
    "for x in X_test:\n",
    "    x= np.array([x]) # avreriguar por que se hace esto y que es\n",
    "    prediction = knn.predict(x)\n",
    "    print(\"Prediction: {}\".format(prediction))\n",
    "    print(\"Predicted target name: {}\".format(\n",
    "    iris_dataset['target_names'][prediction]))\n",
    "    "
   ]
  },
  {
   "cell_type": "markdown",
   "id": "7e66e7d5-e462-4949-bd2b-2423aca547da",
   "metadata": {},
   "source": [
    "# 3"
   ]
  },
  {
   "cell_type": "code",
   "execution_count": 10,
   "id": "1c74c4d2-d410-4963-b4c2-1b2aaaf20838",
   "metadata": {},
   "outputs": [
    {
     "name": "stdout",
     "output_type": "stream",
     "text": [
      "     sepal.length  sepal.width  petal.length  petal.width  variety\n",
      "0             5.1          3.5           1.4          0.2        0\n",
      "1             4.9          3.0           1.4          0.2        0\n",
      "2             4.7          3.2           1.3          0.2        0\n",
      "3             4.6          3.1           1.5          0.2        0\n",
      "4             5.0          3.6           1.4          0.2        0\n",
      "..            ...          ...           ...          ...      ...\n",
      "145           6.7          3.0           5.2          2.3        2\n",
      "146           6.3          2.5           5.0          1.9        2\n",
      "147           6.5          3.0           5.2          2.0        2\n",
      "148           6.2          3.4           5.4          2.3        2\n",
      "149           5.9          3.0           5.1          1.8        2\n",
      "\n",
      "[150 rows x 5 columns]\n"
     ]
    }
   ],
   "source": [
    "\n",
    "\n",
    "df = pd.read_csv('iris.csv')\n",
    "from sklearn.preprocessing import LabelEncoder \n",
    "encoder = LabelEncoder()\n",
    "df['variety']=encoder.fit_transform(df.variety.values)\n",
    "print(df)\n",
    "\n",
    "#data['variety'].replace({'Setosa': 0, 'Versicolor': 1, 'Virginica': 2})\n"
   ]
  },
  {
   "cell_type": "code",
   "execution_count": 11,
   "id": "2f9606cd-0375-43e8-a19d-813453ad0b32",
   "metadata": {},
   "outputs": [
    {
     "name": "stdout",
     "output_type": "stream",
     "text": [
      "[[4.8 3.1 1.6 0.2]\n",
      " [6.5 3.  5.5 1.8]\n",
      " [5.7 4.4 1.5 0.4]\n",
      " [6.3 2.5 4.9 1.5]\n",
      " [5.8 2.6 4.  1.2]\n",
      " [4.7 3.2 1.3 0.2]\n",
      " [5.  3.3 1.4 0.2]\n",
      " [7.7 3.  6.1 2.3]\n",
      " [6.8 3.  5.5 2.1]\n",
      " [6.2 2.9 4.3 1.3]\n",
      " [6.7 3.1 4.7 1.5]\n",
      " [5.8 2.7 4.1 1. ]\n",
      " [6.2 2.8 4.8 1.8]\n",
      " [7.2 3.2 6.  1.8]\n",
      " [5.8 2.7 3.9 1.2]\n",
      " [5.4 3.7 1.5 0.2]\n",
      " [5.  3.  1.6 0.2]\n",
      " [4.3 3.  1.1 0.1]\n",
      " [7.9 3.8 6.4 2. ]\n",
      " [6.7 3.1 4.4 1.4]\n",
      " [5.5 3.5 1.3 0.2]\n",
      " [4.9 2.4 3.3 1. ]\n",
      " [6.3 3.4 5.6 2.4]\n",
      " [7.6 3.  6.6 2.1]\n",
      " [5.8 2.7 5.1 1.9]\n",
      " [7.7 2.6 6.9 2.3]\n",
      " [5.  3.5 1.3 0.3]\n",
      " [6.3 2.9 5.6 1.8]\n",
      " [6.9 3.1 4.9 1.5]\n",
      " [5.5 2.6 4.4 1.2]\n",
      " [4.9 3.1 1.5 0.2]\n",
      " [5.8 4.  1.2 0.2]\n",
      " [5.3 3.7 1.5 0.2]\n",
      " [5.6 2.9 3.6 1.3]\n",
      " [6.3 3.3 4.7 1.6]\n",
      " [6.7 3.3 5.7 2.5]\n",
      " [6.4 3.1 5.5 1.8]\n",
      " [5.6 2.5 3.9 1.1]\n",
      " [5.8 2.7 5.1 1.9]\n",
      " [6.  3.4 4.5 1.6]\n",
      " [5.2 3.4 1.4 0.2]\n",
      " [5.  3.4 1.5 0.2]\n",
      " [4.6 3.1 1.5 0.2]\n",
      " [5.2 4.1 1.5 0.1]\n",
      " [4.9 3.6 1.4 0.1]\n",
      " [4.4 3.2 1.3 0.2]\n",
      " [6.3 3.3 6.  2.5]\n",
      " [6.4 2.7 5.3 1.9]\n",
      " [6.5 2.8 4.6 1.5]\n",
      " [6.5 3.2 5.1 2. ]\n",
      " [5.1 2.5 3.  1.1]\n",
      " [6.4 3.2 5.3 2.3]\n",
      " [5.4 3.4 1.5 0.4]\n",
      " [6.4 2.8 5.6 2.2]\n",
      " [6.1 2.9 4.7 1.4]\n",
      " [4.8 3.  1.4 0.3]\n",
      " [7.2 3.6 6.1 2.5]\n",
      " [6.3 2.5 5.  1.9]\n",
      " [4.7 3.2 1.6 0.2]\n",
      " [6.  2.2 5.  1.5]\n",
      " [6.7 3.  5.2 2.3]\n",
      " [6.1 2.6 5.6 1.4]\n",
      " [5.  2.  3.5 1. ]\n",
      " [5.7 3.8 1.7 0.3]\n",
      " [6.  2.7 5.1 1.6]\n",
      " [6.3 2.7 4.9 1.8]\n",
      " [5.6 3.  4.5 1.5]\n",
      " [4.4 3.  1.3 0.2]\n",
      " [7.1 3.  5.9 2.1]\n",
      " [5.9 3.  4.2 1.5]\n",
      " [5.1 3.3 1.7 0.5]\n",
      " [5.1 3.5 1.4 0.2]\n",
      " [5.7 2.5 5.  2. ]\n",
      " [6.9 3.1 5.1 2.3]\n",
      " [5.6 3.  4.1 1.3]\n",
      " [6.4 2.8 5.6 2.1]\n",
      " [6.8 2.8 4.8 1.4]\n",
      " [6.7 3.  5.  1.7]\n",
      " [5.6 2.8 4.9 2. ]\n",
      " [5.5 4.2 1.4 0.2]\n",
      " [4.5 2.3 1.3 0.3]\n",
      " [5.7 3.  4.2 1.2]\n",
      " [5.  2.3 3.3 1. ]\n",
      " [4.8 3.4 1.6 0.2]\n",
      " [5.8 2.8 5.1 2.4]\n",
      " [6.6 3.  4.4 1.4]\n",
      " [5.1 3.8 1.9 0.4]\n",
      " [4.9 3.  1.4 0.2]\n",
      " [6.1 3.  4.6 1.4]\n",
      " [5.5 2.3 4.  1.3]\n",
      " [5.7 2.9 4.2 1.3]\n",
      " [4.8 3.  1.4 0.1]\n",
      " [5.4 3.9 1.7 0.4]\n",
      " [6.  3.  4.8 1.8]\n",
      " [7.  3.2 4.7 1.4]\n",
      " [5.  3.4 1.6 0.4]\n",
      " [4.6 3.6 1.  0.2]\n",
      " [5.1 3.8 1.5 0.3]\n",
      " [5.7 2.8 4.1 1.3]\n",
      " [5.1 3.7 1.5 0.4]\n",
      " [6.1 2.8 4.7 1.2]\n",
      " [5.1 3.5 1.4 0.3]\n",
      " [6.3 2.8 5.1 1.5]\n",
      " [6.  2.2 4.  1. ]\n",
      " [5.2 3.5 1.5 0.2]\n",
      " [4.6 3.2 1.4 0.2]\n",
      " [5.7 2.6 3.5 1. ]\n",
      " [5.1 3.4 1.5 0.2]\n",
      " [6.8 3.2 5.9 2.3]\n",
      " [5.4 3.4 1.7 0.2]\n",
      " [6.7 3.1 5.6 2.4]\n",
      " [7.4 2.8 6.1 1.9]\n",
      " [7.3 2.9 6.3 1.8]\n",
      " [5.2 2.7 3.9 1.4]\n",
      " [5.7 2.8 4.5 1.3]\n",
      " [6.2 3.4 5.4 2.3]\n",
      " [5.9 3.  5.1 1.8]\n",
      " [6.2 2.2 4.5 1.5]\n",
      " [5.  3.2 1.2 0.2]\n",
      " [7.2 3.  5.8 1.6]] \n",
      "\n",
      "[[6.9 3.1 5.4 2.1]\n",
      " [4.4 2.9 1.4 0.2]\n",
      " [6.4 2.9 4.3 1.3]\n",
      " [6.9 3.2 5.7 2.3]\n",
      " [5.  3.6 1.4 0.2]\n",
      " [5.5 2.5 4.  1.3]\n",
      " [6.  2.9 4.5 1.5]\n",
      " [6.7 2.5 5.8 1.8]\n",
      " [4.8 3.4 1.9 0.2]\n",
      " [5.9 3.2 4.8 1.8]\n",
      " [7.7 2.8 6.7 2. ]\n",
      " [6.3 2.3 4.4 1.3]\n",
      " [6.1 3.  4.9 1.8]\n",
      " [5.6 2.7 4.2 1.3]\n",
      " [6.7 3.3 5.7 2.1]\n",
      " [5.4 3.9 1.3 0.4]\n",
      " [4.9 3.1 1.5 0.1]\n",
      " [6.1 2.8 4.  1.3]\n",
      " [5.5 2.4 3.7 1. ]\n",
      " [4.9 2.5 4.5 1.7]\n",
      " [5.4 3.  4.5 1.5]\n",
      " [6.4 3.2 4.5 1.5]\n",
      " [5.1 3.8 1.6 0.2]\n",
      " [5.5 2.4 3.8 1.1]\n",
      " [7.7 3.8 6.7 2.2]\n",
      " [4.6 3.4 1.4 0.3]\n",
      " [5.  3.5 1.6 0.6]\n",
      " [6.5 3.  5.2 2. ]\n",
      " [6.6 2.9 4.6 1.3]\n",
      " [6.5 3.  5.8 2.2]]\n"
     ]
    }
   ],
   "source": [
    "from sklearn.model_selection import train_test_split\n",
    "X_train, X_test, y_train, y_test = train_test_split(\n",
    "iris_dataset['data'], iris_dataset['target'],test_size=0.20, random_state=99)\n",
    "#solo le puedes meter 4 variables\n",
    "print(X_train,'\\n')\n",
    "print(X_test)"
   ]
  },
  {
   "cell_type": "markdown",
   "id": "f9bdccff-ed90-4375-bbf6-afba80827f98",
   "metadata": {},
   "source": [
    "# 5"
   ]
  },
  {
   "cell_type": "code",
   "execution_count": 12,
   "id": "d04e284b-cd1d-4fa2-b652-dd833618eea7",
   "metadata": {},
   "outputs": [
    {
     "data": {
      "text/plain": [
       "KNeighborsClassifier()"
      ]
     },
     "execution_count": 12,
     "metadata": {},
     "output_type": "execute_result"
    }
   ],
   "source": [
    "knn.fit(X_train, y_train)"
   ]
  },
  {
   "cell_type": "code",
   "execution_count": 13,
   "id": "ea407aa2-856a-4611-94d8-50003404750e",
   "metadata": {},
   "outputs": [
    {
     "name": "stdout",
     "output_type": "stream",
     "text": [
      "Test set score: 0.93\n"
     ]
    }
   ],
   "source": [
    "y_pred = knn.predict(X_test)\n",
    "print(\"Test set score: {:.2f}\".format(np.mean(y_pred == y_test)))"
   ]
  },
  {
   "cell_type": "markdown",
   "id": "23fb92e9-3800-4bcf-8a56-6a187dc18637",
   "metadata": {},
   "source": [
    "# 6"
   ]
  },
  {
   "cell_type": "code",
   "execution_count": 22,
   "id": "2b9775c2-9f40-4857-bf27-c40b8836edb9",
   "metadata": {},
   "outputs": [
    {
     "name": "stdout",
     "output_type": "stream",
     "text": [
      "[0.9666666666666667, 0.9, 0.9666666666666667, 0.9333333333333333, 0.9333333333333333, 0.9333333333333333, 1.0, 0.9666666666666667, 1.0, 1.0, 1.0, 0.9666666666666667, 1.0, 0.9666666666666667, 1.0, 1.0, 1.0, 0.9666666666666667, 0.9666666666666667, 0.9, 0.9333333333333333, 0.9, 0.9, 0.9, 0.9, 0.9, 0.9, 0.9, 0.9, 0.9, 0.9, 0.9, 0.9, 0.9, 0.9, 0.9, 0.9, 0.8666666666666667, 0.8666666666666667, 0.8666666666666667, 0.9, 0.8666666666666667, 0.8666666666666667, 0.8666666666666667, 0.8666666666666667, 0.8666666666666667, 0.8666666666666667, 0.8666666666666667, 0.8666666666666667, 0.8666666666666667, 0.8666666666666667, 0.8666666666666667, 0.8666666666666667, 0.8666666666666667, 0.8666666666666667, 0.8333333333333334, 0.8666666666666667, 0.8333333333333334, 0.8333333333333334, 0.8333333333333334, 0.8333333333333334, 0.8, 0.8333333333333334, 0.8, 0.8, 0.8, 0.8, 0.8, 0.8, 0.8]\n"
     ]
    }
   ],
   "source": [
    "from sklearn.neighbors import KNeighborsClassifier\n",
    "from sklearn.model_selection import train_test_split\n",
    "L=[]\n",
    "for k in range(70):\n",
    "    knn = KNeighborsClassifier(n_neighbors=k+1)\n",
    "\n",
    "    X_train, X_test, y_train, y_test = train_test_split(\n",
    "    iris_dataset['data'], iris_dataset['target'],test_size=0.20, random_state=33)\n",
    "\n",
    "    knn.fit(X_train,y_train)\n",
    "    y_pred = knn.predict(X_test)\n",
    "    #print(\"Test set predictions:\\n {}\".format(y_pred))\n",
    "    #print(\"Test set score: {:.2f}\".format(np.mean(y_pred == y_test)))\n",
    "    L.append(np.mean(y_pred == y_test))\n",
    "print(L)"
   ]
  },
  {
   "cell_type": "code",
   "execution_count": null,
   "id": "f3f9fa53-2a74-468a-a917-d1143adb8d06",
   "metadata": {},
   "outputs": [],
   "source": []
  },
  {
   "cell_type": "code",
   "execution_count": 37,
   "id": "dbc0a54c-6e00-40f6-838c-f832db6f910f",
   "metadata": {},
   "outputs": [
    {
     "data": {
      "text/plain": [
       "[<matplotlib.lines.Line2D at 0x1b3a57befa0>]"
      ]
     },
     "execution_count": 37,
     "metadata": {},
     "output_type": "execute_result"
    },
    {
     "data": {
      "image/png": "[encoded data removed]",
      "text/plain": [
       "<Figure size 432x288 with 1 Axes>"
      ]
     },
     "metadata": {
      "needs_background": "light"
     },
     "output_type": "display_data"
    }
   ],
   "source": [
    "import matplotlib.pyplot as plt\n",
    "plt.plot(range(70), L,)"
   ]
  },
  {
   "cell_type": "code",
   "execution_count": 31,
   "id": "db3e541a-aebe-42ec-9cfa-5bda46c63536",
   "metadata": {},
   "outputs": [
    {
     "data": {
      "image/png": "[encoded data removed]",
      "text/plain": [
       "<Figure size 432x288 with 1 Axes>"
      ]
     },
     "metadata": {
      "needs_background": "light"
     },
     "output_type": "display_data"
    }
   ],
   "source": []
  },
  {
   "cell_type": "code",
   "execution_count": null,
   "id": "1f19e3fd-99e7-4e3d-b60d-2c99a1d234a2",
   "metadata": {},
   "outputs": [],
   "source": []
  }
 ],
 "metadata": {
  "kernelspec": {
   "display_name": "Python 3",
   "language": "python",
   "name": "python3"
  },
  "language_info": {
   "codemirror_mode": {
    "name": "ipython",
    "version": 3
   },
   "file_extension": ".py",
   "mimetype": "text/x-python",
   "name": "python",
   "nbconvert_exporter": "python",
   "pygments_lexer": "ipython3",
   "version": "3.8.8"
  }
 },
 "nbformat": 4,
 "nbformat_minor": 5
}
